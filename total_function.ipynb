{
 "cells": [
  {
   "cell_type": "code",
   "execution_count": 3,
   "metadata": {},
   "outputs": [],
   "source": [
    "import cv2\n",
    "import numpy as np\n",
    "from tqdm import tqdm\n",
    "import os\n",
    "from PIL import Image\n",
    "from matplotlib import pyplot as plt\n",
    "from moviepy.video.io.VideoFileClip import VideoFileClip\n",
    "import glob"
   ]
  },
  {
   "cell_type": "code",
   "execution_count": 4,
   "metadata": {},
   "outputs": [],
   "source": [
    "os.chdir(\"C:/Users/user/Desktop/Lab/Kaist/code\")"
   ]
  },
  {
   "cell_type": "code",
   "execution_count": 5,
   "metadata": {},
   "outputs": [],
   "source": [
    "class videofix:\n",
    "  # 영상 자르기\n",
    "  def cutVideo(start_sec,end_sec,input_filepath,output_filepath):\n",
    "    ## 비디오를 가져와서 내가 원하는 부분에 대한 seconds 설정\n",
    "    clip = VideoFileClip(input_filepath).subclip(start_sec,end_sec)\n",
    "    ## 새로운 비디오 파일 저장\n",
    "    clip.write_videofile(output_filepath)\n",
    "\n",
    "\n",
    "  # 영상 프레임별로 사진 저장\n",
    "  def saveImg(input_filepath):\n",
    "    clip = VideoFileClip(input_filepath)\n",
    "    ## 프레임을 추출해서 이미지 저장\n",
    "    os.mkdir(\"./framebyimg\")\n",
    "    for i, frame in enumerate(clip.iter_frames()):\n",
    "      image = Image.fromarray(frame)\n",
    "      image.save(\"./framebyimg/frame_{}.jpg\".format(i))\n",
    "\n",
    "\n",
    "  # 사진 구도 조정 후 영상으로 변환\n",
    "  def removeImg(save_videoname):\n",
    "    ## 동영상 순서별로 사진 순서 조정\n",
    "    os.chdir(\"./framebyimg\")\n",
    "    imgs = os.listdir()\n",
    "    imgs_ = {}\n",
    "    for img in imgs:\n",
    "      if img.endswith('.jpg'):\n",
    "        img_idx = img.split('_')[-1].split('.')[0]\n",
    "        imgs_[int(img_idx)] = img\n",
    "    res = list(map(lambda x: x[1], sorted(imgs_.items(), key=lambda x: x[0])))\n",
    "\n",
    "    ## Optical Flow를 활용해 사진구도 조정\n",
    "    ## Load the images\n",
    "    imgs = res\n",
    "    imgs_aligned = []\n",
    "\n",
    "    ## Read the image\n",
    "    prev_image = cv2.imread(imgs[0])\n",
    "    prev_gray = cv2.cvtColor(prev_image, cv2.COLOR_BGR2GRAY)\n",
    "\n",
    "    ## 디텍터 정의\n",
    "    feature_detector = cv2.GFTTDetector_create()\n",
    "\n",
    "    for i in tqdm(range(1,len(imgs))):\n",
    "      ###첫 번째 프레임에서 형상 탐지\n",
    "      prev_features = feature_detector.detect(prev_gray)\n",
    "      prev_features = np.array([x.pt for x in prev_features], dtype = np.float32)\n",
    "\n",
    "      ### 다음이미지 불러오기\n",
    "      curr_image = cv2.imread(imgs[i])\n",
    "      curr_gray = cv2.cvtColor(curr_image, cv2.COLOR_BGR2GRAY)\n",
    "\n",
    "      ### 광학 흐름 계산\n",
    "      next_features, status, error = cv2.calcOpticalFlowPyrLK(prev_gray, curr_gray, prev_features, None)\n",
    "\n",
    "      ### 카메라의 움직임을 계산\n",
    "      motion, _ = cv2.estimateAffine2D(prev_features, next_features)[:2]\n",
    "\n",
    "      ### 이미지 흔들림 보정\n",
    "      corrected_image = cv2.warpAffine(curr_image, motion, (curr_image.shape[1], curr_image.shape[0]), flags = cv2.INTER_LINEAR + cv2.WARP_INVERSE_MAP)\n",
    "\n",
    "      imgs_aligned.append(corrected_image)\n",
    "      \n",
    "    ## 영상 저장\n",
    "    out = cv2.VideoWriter('../{}.mp4'.format(save_videoname),cv2.VideoWriter_fourcc(*'FMP4'), 40, (3840, 2160))\n",
    "\n",
    "    for i in range(len(imgs_aligned)):\n",
    "        out.write(imgs_aligned[i])\n",
    "    out.release()\n",
    "    [os.remove(f) for f in glob.glob(\"./*.jpg\")]\n",
    "    os.chdir(\"../\")\n",
    "    os.rmdir(\"./framebyimg\")\n",
    "\n",
    "\n"
   ]
  },
  {
   "cell_type": "code",
   "execution_count": null,
   "metadata": {},
   "outputs": [],
   "source": [
    "# 영상자르기\n",
    "input_filepath = \"C:/Users/user/Desktop/Lab/Kaist/yolo_video/Songdo.mp4\"\n",
    "output_filepath = \"C:/Users/user/Desktop/Lab/Kaist/code/CUT_songdo.mp4\"\n",
    "\n",
    "videofix.cutVideo(0,190,input_filepath,output_filepath)"
   ]
  },
  {
   "cell_type": "code",
   "execution_count": 4,
   "metadata": {},
   "outputs": [
    {
     "name": "stdout",
     "output_type": "stream",
     "text": [
      "Moviepy - Building video C:/Users/user/Desktop/Lab/Kaist/code/CUT_DJI_0026.mp4.\n",
      "Moviepy - Writing video C:/Users/user/Desktop/Lab/Kaist/code/CUT_DJI_0026.mp4\n",
      "\n"
     ]
    },
    {
     "name": "stderr",
     "output_type": "stream",
     "text": [
      "                                                                \r"
     ]
    },
    {
     "name": "stdout",
     "output_type": "stream",
     "text": [
      "Moviepy - Done !\n",
      "Moviepy - video ready C:/Users/user/Desktop/Lab/Kaist/code/CUT_DJI_0026.mp4\n"
     ]
    }
   ],
   "source": [
    "# 영상자르기\n",
    "input_filepath = \"G:/.shortcut-targets-by-id/1oV6srM2tpa3LfD_wLXITXyJLEn8uyQDq/박민주교수님/Songdo/DJI_0026.mp4\"\n",
    "output_filepath = \"C:/Users/user/Desktop/Lab/Kaist/code/CUT_DJI_0026.mp4\"\n",
    "\n",
    "videofix.cutVideo(0,190,input_filepath,output_filepath)"
   ]
  },
  {
   "cell_type": "code",
   "execution_count": 7,
   "metadata": {},
   "outputs": [
    {
     "ename": "KeyboardInterrupt",
     "evalue": "",
     "output_type": "error",
     "traceback": [
      "\u001b[1;31m---------------------------------------------------------------------------\u001b[0m",
      "\u001b[1;31mKeyboardInterrupt\u001b[0m                         Traceback (most recent call last)",
      "\u001b[1;32m~\\AppData\\Local\\Temp/ipykernel_9644/4069910119.py\u001b[0m in \u001b[0;36m<module>\u001b[1;34m\u001b[0m\n\u001b[0;32m      1\u001b[0m \u001b[1;31m# 프레임별 이미지 생성\u001b[0m\u001b[1;33m\u001b[0m\u001b[1;33m\u001b[0m\u001b[1;33m\u001b[0m\u001b[0m\n\u001b[0;32m      2\u001b[0m \u001b[0moutput_filepath\u001b[0m \u001b[1;33m=\u001b[0m \u001b[1;34m\"C:/Users/user/Desktop/Lab/Kaist/code/CUT_DJI_0026.mp4\"\u001b[0m\u001b[1;33m\u001b[0m\u001b[1;33m\u001b[0m\u001b[0m\n\u001b[1;32m----> 3\u001b[1;33m \u001b[0mvideofix\u001b[0m\u001b[1;33m.\u001b[0m\u001b[0msaveImg\u001b[0m\u001b[1;33m(\u001b[0m\u001b[0moutput_filepath\u001b[0m\u001b[1;33m)\u001b[0m\u001b[1;33m\u001b[0m\u001b[1;33m\u001b[0m\u001b[0m\n\u001b[0m",
      "\u001b[1;32m~\\AppData\\Local\\Temp/ipykernel_9644/1577113214.py\u001b[0m in \u001b[0;36msaveImg\u001b[1;34m(input_filepath)\u001b[0m\n\u001b[0;32m     15\u001b[0m     \u001b[1;32mfor\u001b[0m \u001b[0mi\u001b[0m\u001b[1;33m,\u001b[0m \u001b[0mframe\u001b[0m \u001b[1;32min\u001b[0m \u001b[0menumerate\u001b[0m\u001b[1;33m(\u001b[0m\u001b[0mclip\u001b[0m\u001b[1;33m.\u001b[0m\u001b[0miter_frames\u001b[0m\u001b[1;33m(\u001b[0m\u001b[1;33m)\u001b[0m\u001b[1;33m)\u001b[0m\u001b[1;33m:\u001b[0m\u001b[1;33m\u001b[0m\u001b[1;33m\u001b[0m\u001b[0m\n\u001b[0;32m     16\u001b[0m       \u001b[0mimage\u001b[0m \u001b[1;33m=\u001b[0m \u001b[0mImage\u001b[0m\u001b[1;33m.\u001b[0m\u001b[0mfromarray\u001b[0m\u001b[1;33m(\u001b[0m\u001b[0mframe\u001b[0m\u001b[1;33m)\u001b[0m\u001b[1;33m\u001b[0m\u001b[1;33m\u001b[0m\u001b[0m\n\u001b[1;32m---> 17\u001b[1;33m       \u001b[0mimage\u001b[0m\u001b[1;33m.\u001b[0m\u001b[0msave\u001b[0m\u001b[1;33m(\u001b[0m\u001b[1;34m\"./framebyimg/frame_{}.jpg\"\u001b[0m\u001b[1;33m.\u001b[0m\u001b[0mformat\u001b[0m\u001b[1;33m(\u001b[0m\u001b[0mi\u001b[0m\u001b[1;33m)\u001b[0m\u001b[1;33m)\u001b[0m\u001b[1;33m\u001b[0m\u001b[1;33m\u001b[0m\u001b[0m\n\u001b[0m\u001b[0;32m     18\u001b[0m \u001b[1;33m\u001b[0m\u001b[0m\n\u001b[0;32m     19\u001b[0m \u001b[1;33m\u001b[0m\u001b[0m\n",
      "\u001b[1;32mc:\\python\\lib\\site-packages\\PIL\\Image.py\u001b[0m in \u001b[0;36msave\u001b[1;34m(self, fp, format, **params)\u001b[0m\n\u001b[0;32m   2430\u001b[0m \u001b[1;33m\u001b[0m\u001b[0m\n\u001b[0;32m   2431\u001b[0m         \u001b[1;32mtry\u001b[0m\u001b[1;33m:\u001b[0m\u001b[1;33m\u001b[0m\u001b[1;33m\u001b[0m\u001b[0m\n\u001b[1;32m-> 2432\u001b[1;33m             \u001b[0msave_handler\u001b[0m\u001b[1;33m(\u001b[0m\u001b[0mself\u001b[0m\u001b[1;33m,\u001b[0m \u001b[0mfp\u001b[0m\u001b[1;33m,\u001b[0m \u001b[0mfilename\u001b[0m\u001b[1;33m)\u001b[0m\u001b[1;33m\u001b[0m\u001b[1;33m\u001b[0m\u001b[0m\n\u001b[0m\u001b[0;32m   2433\u001b[0m         \u001b[1;32mexcept\u001b[0m \u001b[0mException\u001b[0m\u001b[1;33m:\u001b[0m\u001b[1;33m\u001b[0m\u001b[1;33m\u001b[0m\u001b[0m\n\u001b[0;32m   2434\u001b[0m             \u001b[1;32mif\u001b[0m \u001b[0mopen_fp\u001b[0m\u001b[1;33m:\u001b[0m\u001b[1;33m\u001b[0m\u001b[1;33m\u001b[0m\u001b[0m\n",
      "\u001b[1;32mc:\\python\\lib\\site-packages\\PIL\\JpegImagePlugin.py\u001b[0m in \u001b[0;36m_save\u001b[1;34m(im, fp, filename)\u001b[0m\n\u001b[0;32m    804\u001b[0m     \u001b[0mbufsize\u001b[0m \u001b[1;33m=\u001b[0m \u001b[0mmax\u001b[0m\u001b[1;33m(\u001b[0m\u001b[0mImageFile\u001b[0m\u001b[1;33m.\u001b[0m\u001b[0mMAXBLOCK\u001b[0m\u001b[1;33m,\u001b[0m \u001b[0mbufsize\u001b[0m\u001b[1;33m,\u001b[0m \u001b[0mlen\u001b[0m\u001b[1;33m(\u001b[0m\u001b[0mexif\u001b[0m\u001b[1;33m)\u001b[0m \u001b[1;33m+\u001b[0m \u001b[1;36m5\u001b[0m\u001b[1;33m,\u001b[0m \u001b[0mlen\u001b[0m\u001b[1;33m(\u001b[0m\u001b[0mextra\u001b[0m\u001b[1;33m)\u001b[0m \u001b[1;33m+\u001b[0m \u001b[1;36m1\u001b[0m\u001b[1;33m)\u001b[0m\u001b[1;33m\u001b[0m\u001b[1;33m\u001b[0m\u001b[0m\n\u001b[0;32m    805\u001b[0m \u001b[1;33m\u001b[0m\u001b[0m\n\u001b[1;32m--> 806\u001b[1;33m     \u001b[0mImageFile\u001b[0m\u001b[1;33m.\u001b[0m\u001b[0m_save\u001b[0m\u001b[1;33m(\u001b[0m\u001b[0mim\u001b[0m\u001b[1;33m,\u001b[0m \u001b[0mfp\u001b[0m\u001b[1;33m,\u001b[0m \u001b[1;33m[\u001b[0m\u001b[1;33m(\u001b[0m\u001b[1;34m\"jpeg\"\u001b[0m\u001b[1;33m,\u001b[0m \u001b[1;33m(\u001b[0m\u001b[1;36m0\u001b[0m\u001b[1;33m,\u001b[0m \u001b[1;36m0\u001b[0m\u001b[1;33m)\u001b[0m \u001b[1;33m+\u001b[0m \u001b[0mim\u001b[0m\u001b[1;33m.\u001b[0m\u001b[0msize\u001b[0m\u001b[1;33m,\u001b[0m \u001b[1;36m0\u001b[0m\u001b[1;33m,\u001b[0m \u001b[0mrawmode\u001b[0m\u001b[1;33m)\u001b[0m\u001b[1;33m]\u001b[0m\u001b[1;33m,\u001b[0m \u001b[0mbufsize\u001b[0m\u001b[1;33m)\u001b[0m\u001b[1;33m\u001b[0m\u001b[1;33m\u001b[0m\u001b[0m\n\u001b[0m\u001b[0;32m    807\u001b[0m \u001b[1;33m\u001b[0m\u001b[0m\n\u001b[0;32m    808\u001b[0m \u001b[1;33m\u001b[0m\u001b[0m\n",
      "\u001b[1;32mc:\\python\\lib\\site-packages\\PIL\\ImageFile.py\u001b[0m in \u001b[0;36m_save\u001b[1;34m(im, fp, tile, bufsize)\u001b[0m\n\u001b[0;32m    515\u001b[0m         \u001b[0mfh\u001b[0m \u001b[1;33m=\u001b[0m \u001b[0mfp\u001b[0m\u001b[1;33m.\u001b[0m\u001b[0mfileno\u001b[0m\u001b[1;33m(\u001b[0m\u001b[1;33m)\u001b[0m\u001b[1;33m\u001b[0m\u001b[1;33m\u001b[0m\u001b[0m\n\u001b[0;32m    516\u001b[0m         \u001b[0mfp\u001b[0m\u001b[1;33m.\u001b[0m\u001b[0mflush\u001b[0m\u001b[1;33m(\u001b[0m\u001b[1;33m)\u001b[0m\u001b[1;33m\u001b[0m\u001b[1;33m\u001b[0m\u001b[0m\n\u001b[1;32m--> 517\u001b[1;33m         \u001b[0m_encode_tile\u001b[0m\u001b[1;33m(\u001b[0m\u001b[0mim\u001b[0m\u001b[1;33m,\u001b[0m \u001b[0mfp\u001b[0m\u001b[1;33m,\u001b[0m \u001b[0mtile\u001b[0m\u001b[1;33m,\u001b[0m \u001b[0mbufsize\u001b[0m\u001b[1;33m,\u001b[0m \u001b[0mfh\u001b[0m\u001b[1;33m)\u001b[0m\u001b[1;33m\u001b[0m\u001b[1;33m\u001b[0m\u001b[0m\n\u001b[0m\u001b[0;32m    518\u001b[0m     \u001b[1;32mexcept\u001b[0m \u001b[1;33m(\u001b[0m\u001b[0mAttributeError\u001b[0m\u001b[1;33m,\u001b[0m \u001b[0mio\u001b[0m\u001b[1;33m.\u001b[0m\u001b[0mUnsupportedOperation\u001b[0m\u001b[1;33m)\u001b[0m \u001b[1;32mas\u001b[0m \u001b[0mexc\u001b[0m\u001b[1;33m:\u001b[0m\u001b[1;33m\u001b[0m\u001b[1;33m\u001b[0m\u001b[0m\n\u001b[0;32m    519\u001b[0m         \u001b[0m_encode_tile\u001b[0m\u001b[1;33m(\u001b[0m\u001b[0mim\u001b[0m\u001b[1;33m,\u001b[0m \u001b[0mfp\u001b[0m\u001b[1;33m,\u001b[0m \u001b[0mtile\u001b[0m\u001b[1;33m,\u001b[0m \u001b[0mbufsize\u001b[0m\u001b[1;33m,\u001b[0m \u001b[1;32mNone\u001b[0m\u001b[1;33m,\u001b[0m \u001b[0mexc\u001b[0m\u001b[1;33m)\u001b[0m\u001b[1;33m\u001b[0m\u001b[1;33m\u001b[0m\u001b[0m\n",
      "\u001b[1;32mc:\\python\\lib\\site-packages\\PIL\\ImageFile.py\u001b[0m in \u001b[0;36m_encode_tile\u001b[1;34m(im, fp, tile, bufsize, fh, exc)\u001b[0m\n\u001b[0;32m    542\u001b[0m                 \u001b[1;32melse\u001b[0m\u001b[1;33m:\u001b[0m\u001b[1;33m\u001b[0m\u001b[1;33m\u001b[0m\u001b[0m\n\u001b[0;32m    543\u001b[0m                     \u001b[1;31m# slight speedup: compress to real file object\u001b[0m\u001b[1;33m\u001b[0m\u001b[1;33m\u001b[0m\u001b[1;33m\u001b[0m\u001b[0m\n\u001b[1;32m--> 544\u001b[1;33m                     \u001b[0merrcode\u001b[0m \u001b[1;33m=\u001b[0m \u001b[0mencoder\u001b[0m\u001b[1;33m.\u001b[0m\u001b[0mencode_to_file\u001b[0m\u001b[1;33m(\u001b[0m\u001b[0mfh\u001b[0m\u001b[1;33m,\u001b[0m \u001b[0mbufsize\u001b[0m\u001b[1;33m)\u001b[0m\u001b[1;33m\u001b[0m\u001b[1;33m\u001b[0m\u001b[0m\n\u001b[0m\u001b[0;32m    545\u001b[0m             \u001b[1;32mif\u001b[0m \u001b[0merrcode\u001b[0m \u001b[1;33m<\u001b[0m \u001b[1;36m0\u001b[0m\u001b[1;33m:\u001b[0m\u001b[1;33m\u001b[0m\u001b[1;33m\u001b[0m\u001b[0m\n\u001b[0;32m    546\u001b[0m                 \u001b[0mmsg\u001b[0m \u001b[1;33m=\u001b[0m \u001b[1;34mf\"encoder error {errcode} when writing image file\"\u001b[0m\u001b[1;33m\u001b[0m\u001b[1;33m\u001b[0m\u001b[0m\n",
      "\u001b[1;31mKeyboardInterrupt\u001b[0m: "
     ]
    }
   ],
   "source": [
    "# 프레임별 이미지 생성\n",
    "output_filepath = \"C:/Users/user/Desktop/Lab/Kaist/code/CUT_DJI_0026.mp4\"\n",
    "videofix.saveImg(output_filepath)"
   ]
  },
  {
   "cell_type": "code",
   "execution_count": 15,
   "metadata": {},
   "outputs": [
    {
     "name": "stderr",
     "output_type": "stream",
     "text": [
      "100%|██████████| 5694/5694 [30:38<00:00,  3.10it/s]  \n"
     ]
    }
   ],
   "source": [
    "# 이미지 조정 후 동영상 재저장\n",
    "videofix.removeImg(\"remake_D26\")"
   ]
  },
  {
   "cell_type": "code",
   "execution_count": null,
   "metadata": {},
   "outputs": [],
   "source": []
  }
 ],
 "metadata": {
  "kernelspec": {
   "display_name": "Python 3",
   "language": "python",
   "name": "python3"
  },
  "language_info": {
   "codemirror_mode": {
    "name": "ipython",
    "version": 3
   },
   "file_extension": ".py",
   "mimetype": "text/x-python",
   "name": "python",
   "nbconvert_exporter": "python",
   "pygments_lexer": "ipython3",
   "version": "3.8.10"
  },
  "orig_nbformat": 4,
  "vscode": {
   "interpreter": {
    "hash": "fbe58ca63fe33f9eeae9e71d10368d2b4a57f2b1b395836210cc60d362c66949"
   }
  }
 },
 "nbformat": 4,
 "nbformat_minor": 2
}
